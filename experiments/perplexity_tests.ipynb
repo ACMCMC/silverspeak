{
 "cells": [
  {
   "cell_type": "markdown",
   "metadata": {},
   "source": [
    "# Loglikelihood tests\n",
    "\n",
    "We'll experiment with the loglikelihood of the text before and after a homoglyph-based attack.\n",
    "\n",
    "This corresponds to Section 4.2.1 in the paper."
   ]
  },
  {
   "cell_type": "markdown",
   "metadata": {},
   "source": [
    "## Text with no attacks\n",
    "First, we'll get a plot of the loglikelihoods of the text with no attacks (i.e. the original version)"
   ]
  },
  {
   "cell_type": "code",
   "execution_count": null,
   "metadata": {},
   "outputs": [],
   "source": [
    "import torch\n",
    "\n",
    "from silver_speak.utils import (add_fill_tokens, align_two_token_sequences,\n",
    "                                encode_text, get_different_ranges,\n",
    "                                get_filled_ranges,\n",
    "                                get_loglikelihoods_of_tokens,\n",
    "                                total_loglikelihood)\n",
    "\n",
    "test_text = \"\"\"Dr. Capy Cosmos, a capybara unlike any other, astounded the scientific community with his groundbreaking research in astrophysics. With his keen sense of observation and unparalleled ability to interpret cosmic data, he uncovered new insights into the mysteries of black holes and the origins of the universe. As he peered through telescopes with his large, round eyes, fellow researchers often remarked that it seemed as if the stars themselves whispered their secrets directly to him. Dr. Cosmos not only became a beacon of inspiration to aspiring scientists but also proved that intellect and innovation can be found in the most unexpected of creatures.\"\"\"\n",
    "\n",
    "# Get the loglikelihoods of the tokens\n",
    "original_input_ids = encode_text(test_text)\n",
    "original_toks_loglikelihoods, original_model_outputs = get_loglikelihoods_of_tokens(\n",
    "    input_ids=original_input_ids\n",
    ")  # List of (tok_id, loglikelihood) tuples\n",
    "original_toks = torch.tensor(\n",
    "    [tok_id for tok_id, loglikelihood in original_toks_loglikelihoods]\n",
    ")\n",
    "original_loglikelihoods = torch.tensor(\n",
    "    [loglikelihood for tok_id, loglikelihood in original_toks_loglikelihoods]\n",
    ")"
   ]
  },
  {
   "cell_type": "code",
   "execution_count": null,
   "metadata": {},
   "outputs": [],
   "source": [
    "# Plot the loglikelihoods\n",
    "from pathlib import Path\n",
    "\n",
    "import matplotlib.pyplot as plt\n",
    "import numpy as np\n",
    "\n",
    "# Label the tokens\n",
    "plt.figure(figsize=(10, 5))\n",
    "plt.plot(original_loglikelihoods, color=\"blue\")\n",
    "plt.xlabel(\"Token index\")\n",
    "plt.ylabel(\"Loglikelihood\")\n",
    "plt.title(\"Loglikelihood of the tokens in the text\")\n",
    "\n",
    "# Save the figures in 'figures/'\n",
    "# If __file__ is not defined, define it (this may happen in interactive environments)\n",
    "if \"__file__\" not in globals():\n",
    "    __file__ = Path(\"visualization.py\").resolve()\n",
    "# Make sure that the output directory exists\n",
    "Path(__file__).parent.parent.joinpath(\"figures\").mkdir(exist_ok=True)\n",
    "figures_dir = Path(__file__).parent.parent / \"figures\"\n",
    "plt.savefig(figures_dir / \"loglikelihoods_original.pdf\")"
   ]
  },
  {
   "cell_type": "markdown",
   "metadata": {},
   "source": [
    "## Attacked text\n",
    "Now, we'll replace 10% of the characters in the text and see how the loglikelihoods change."
   ]
  },
  {
   "cell_type": "code",
   "execution_count": null,
   "metadata": {},
   "outputs": [],
   "source": [
    "from silver_speak.homoglyphs.random_attack import random_attack\n",
    "# First, we run the attack with 10% replacement percentage\n",
    "attacked_text = random_attack(test_text, percentage=0.1, random_seed=42)\n",
    "\n",
    "attacked_input_ids = encode_text(attacked_text)\n",
    "attacked_toks_loglikelihoods, attacked_model_outputs = get_loglikelihoods_of_tokens(input_ids=attacked_input_ids)"
   ]
  },
  {
   "cell_type": "code",
   "execution_count": null,
   "metadata": {},
   "outputs": [],
   "source": [
    "# Now, plot the original and attacked loglikelihoods\n",
    "\n",
    "original_toks = torch.tensor([tok_id for tok_id, loglikelihood in original_toks_loglikelihoods])\n",
    "original_loglikelihoods = torch.tensor([loglikelihood for tok_id, loglikelihood in original_toks_loglikelihoods])\n",
    "attacked_toks = torch.tensor([tok_id for tok_id, loglikelihood in attacked_toks_loglikelihoods])\n",
    "attacked_loglikelihoods = torch.tensor([loglikelihood for tok_id, loglikelihood in attacked_toks_loglikelihoods])\n",
    "aligned_toks = align_two_token_sequences(reference=attacked_toks, target=original_toks)\n",
    "aligned_loglikelihoods = add_fill_tokens(reference=aligned_toks, target=original_loglikelihoods, ELEMENT_TO_FILL=torch.nan) # This makes the plot not show the fill tokens\n",
    "\n",
    "# Calculate the percentage of the tokens that change when we run the attack\n",
    "num_attacked_tokens = torch.sum(attacked_toks != aligned_toks)\n",
    "num_total_tokens = len(attacked_toks)\n",
    "percentage_attacked = num_attacked_tokens / num_total_tokens\n",
    "print(f\"The percentage of tokens that change when we run the attack is: {percentage_attacked}\")\n",
    "\n",
    "# Plot the original loglikelihoods w.r.t. the attacked text in the same plot, to compare, with different colors\n",
    "plt.figure(figsize=(7.6, 5))\n",
    "\n",
    "# Plot the loglikelihoods\n",
    "plt.plot(aligned_loglikelihoods, label='Original', color='blue')\n",
    "plt.plot(attacked_loglikelihoods, label='Attacked', alpha=0.7, color='red')\n",
    "\n",
    "# Draw a light gray overlay to indicate the different tokens between the who texts\n",
    "for start, end in get_different_ranges(attacked_toks, aligned_toks):\n",
    "    # Use avxspan to fill the area between the two lines\n",
    "    plt.axvspan(start - 1, end + 1, color='grey', alpha=0.2, edgecolor=None, linewidth=0, hatch='\\\\')\n",
    "# Add it to the legend\n",
    "plt.fill_between([], [], color='grey', alpha=0.2, label='Differing tokens', hatch='\\\\')\n",
    "\n",
    "# Draw a gray overlay to indicate the fill tokens, between x=40 and x=50. Fill the entire y-axis. Do not draw an outline\n",
    "for start, end in get_filled_ranges(aligned_toks):\n",
    "    # Use avxspan to fill the area between the two lines\n",
    "    plt.axvspan(start - 1, end + 1, color='grey', alpha=0.4, edgecolor=None, linewidth=0, hatch='//')\n",
    "# Add it to the legend\n",
    "plt.fill_between([], [], color='grey', alpha=0.4, label='New tokens', hatch='//')\n",
    "\n",
    "plt.xlabel('Token index')\n",
    "plt.ylabel('Loglikelihood')\n",
    "plt.legend()\n",
    "# Tight layout\n",
    "plt.subplots_adjust(left=0.1, right=1.0, top=0.9, bottom=0.1)\n",
    "plt.savefig(figures_dir / 'loglikelihoods_attacked.pdf')"
   ]
  },
  {
   "cell_type": "markdown",
   "metadata": {},
   "source": [
    "## Distributions of the loglikelihoods\n",
    "Finally, plot the distributions of the loglikelihoods that we see in the original and attacked versions."
   ]
  },
  {
   "cell_type": "code",
   "execution_count": null,
   "metadata": {},
   "outputs": [],
   "source": [
    "import math\n",
    "\n",
    "loglikelihoods = [\n",
    "    [\n",
    "        loglikelihood for tok_id, loglikelihood in original_toks_loglikelihoods\n",
    "    ],  # Just take the loglikelihoods of the original text\n",
    "    [\n",
    "        loglikelihood for tok_id, loglikelihood in attacked_toks_loglikelihoods\n",
    "    ],  # Same for the attacked text\n",
    "]\n",
    "\n",
    "plt.figure(figsize=(2.2, 5))\n",
    "# Log scale\n",
    "plt.violinplot(loglikelihoods, showmeans=True)\n",
    "# X labels: 'Original', 'Attacked'\n",
    "plt.xticks([1, 2], [\"Original\", \"Attacked\"])\n",
    "plt.xlabel(\"\")\n",
    "# Disable the y-axis\n",
    "plt.yticks([])\n",
    "# Tight layout\n",
    "plt.subplots_adjust(left=0.0, right=1.0, top=0.9, bottom=0.1)\n",
    "plt.savefig(figures_dir / \"distributions_loglikelihoods.pdf\")"
   ]
  },
  {
   "cell_type": "code",
   "execution_count": null,
   "metadata": {},
   "outputs": [],
   "source": []
  }
 ],
 "metadata": {
  "kernelspec": {
   "display_name": "silverspeak",
   "language": "python",
   "name": "python3"
  },
  "language_info": {
   "codemirror_mode": {
    "name": "ipython",
    "version": 3
   },
   "file_extension": ".py",
   "mimetype": "text/x-python",
   "name": "python",
   "nbconvert_exporter": "python",
   "pygments_lexer": "ipython3",
   "version": "3.11.9"
  }
 },
 "nbformat": 4,
 "nbformat_minor": 2
}
